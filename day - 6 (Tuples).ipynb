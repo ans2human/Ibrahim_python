{
 "cells": [
  {
   "cell_type": "code",
   "execution_count": 164,
   "id": "5da552e7",
   "metadata": {},
   "outputs": [],
   "source": [
    "# Tuples\n",
    "# type of Collection datatype\n",
    "# Round Brackets ()\n",
    "# Immutable, unchangeable\n",
    "# ordered\n",
    "# Allows duplicate\n",
    "# Indexed\n"
   ]
  },
  {
   "cell_type": "code",
   "execution_count": 165,
   "id": "18993249",
   "metadata": {},
   "outputs": [
    {
     "data": {
      "text/plain": [
       "tuple"
      ]
     },
     "execution_count": 165,
     "metadata": {},
     "output_type": "execute_result"
    }
   ],
   "source": [
    "abc = ()\n",
    "\n",
    "type(abc)"
   ]
  },
  {
   "cell_type": "code",
   "execution_count": 166,
   "id": "f5b15e46",
   "metadata": {},
   "outputs": [
    {
     "data": {
      "text/plain": [
       "0"
      ]
     },
     "execution_count": 166,
     "metadata": {},
     "output_type": "execute_result"
    }
   ],
   "source": [
    "len(abc)"
   ]
  },
  {
   "cell_type": "code",
   "execution_count": 167,
   "id": "3c3beae7",
   "metadata": {},
   "outputs": [
    {
     "ename": "AttributeError",
     "evalue": "'tuple' object has no attribute 'append'",
     "output_type": "error",
     "traceback": [
      "\u001b[1;31m---------------------------------------------------------------------------\u001b[0m",
      "\u001b[1;31mAttributeError\u001b[0m                            Traceback (most recent call last)",
      "\u001b[1;32m<ipython-input-167-e954be061b51>\u001b[0m in \u001b[0;36m<module>\u001b[1;34m\u001b[0m\n\u001b[0;32m      1\u001b[0m \u001b[1;31m# once the tuple is created you cannot add anything to it as it has no methods to do so.\u001b[0m\u001b[1;33m\u001b[0m\u001b[1;33m\u001b[0m\u001b[1;33m\u001b[0m\u001b[0m\n\u001b[0;32m      2\u001b[0m \u001b[1;33m\u001b[0m\u001b[0m\n\u001b[1;32m----> 3\u001b[1;33m \u001b[0mabc\u001b[0m\u001b[1;33m.\u001b[0m\u001b[0mappend\u001b[0m\u001b[1;33m(\u001b[0m\u001b[1;36m1\u001b[0m\u001b[1;33m)\u001b[0m \u001b[1;31m# this will not work as tuple cannot be updated once created\u001b[0m\u001b[1;33m\u001b[0m\u001b[1;33m\u001b[0m\u001b[0m\n\u001b[0m",
      "\u001b[1;31mAttributeError\u001b[0m: 'tuple' object has no attribute 'append'"
     ]
    }
   ],
   "source": [
    "# once the tuple is created you cannot add anything to it as it has no methods to do so.\n",
    "\n",
    "abc.append(1) # this will not work as tuple cannot be updated once created"
   ]
  },
  {
   "cell_type": "code",
   "execution_count": 168,
   "id": "f7a32330",
   "metadata": {},
   "outputs": [
    {
     "data": {
      "text/plain": [
       "'lambhorgini Gallardo'"
      ]
     },
     "execution_count": 168,
     "metadata": {},
     "output_type": "execute_result"
    }
   ],
   "source": [
    "q  = \"lambhorgini Gallardo\"\n",
    "q"
   ]
  },
  {
   "cell_type": "code",
   "execution_count": 169,
   "id": "38b3d17e",
   "metadata": {},
   "outputs": [],
   "source": [
    "abc = list(abc)\n",
    "abc.append(q)"
   ]
  },
  {
   "cell_type": "code",
   "execution_count": 170,
   "id": "4132bfc8",
   "metadata": {},
   "outputs": [
    {
     "data": {
      "text/plain": [
       "['lambhorgini Gallardo']"
      ]
     },
     "execution_count": 170,
     "metadata": {},
     "output_type": "execute_result"
    }
   ],
   "source": [
    "abc"
   ]
  },
  {
   "cell_type": "code",
   "execution_count": 171,
   "id": "56c253f6",
   "metadata": {},
   "outputs": [],
   "source": [
    "abc = tuple(abc)"
   ]
  },
  {
   "cell_type": "code",
   "execution_count": 172,
   "id": "bbc65355",
   "metadata": {},
   "outputs": [
    {
     "data": {
      "text/plain": [
       "('lambhorgini Gallardo',)"
      ]
     },
     "execution_count": 172,
     "metadata": {},
     "output_type": "execute_result"
    }
   ],
   "source": [
    "abc"
   ]
  },
  {
   "cell_type": "code",
   "execution_count": 173,
   "id": "19fac186",
   "metadata": {},
   "outputs": [],
   "source": [
    "# the workaround to update is to first convert tuple into a list then update and then convert it back to tuple.\n",
    "\n",
    "zxc = ()"
   ]
  },
  {
   "cell_type": "code",
   "execution_count": 174,
   "id": "45c7745a",
   "metadata": {},
   "outputs": [],
   "source": [
    "zxc = list(zxc)\n",
    "zxc.append(\"lambhorghini aventador\")\n",
    "zxc = tuple(zxc)"
   ]
  },
  {
   "cell_type": "code",
   "execution_count": 175,
   "id": "df8d4744",
   "metadata": {},
   "outputs": [
    {
     "data": {
      "text/plain": [
       "('lambhorghini aventador',)"
      ]
     },
     "execution_count": 175,
     "metadata": {},
     "output_type": "execute_result"
    }
   ],
   "source": [
    "zxc"
   ]
  },
  {
   "cell_type": "code",
   "execution_count": 176,
   "id": "aeb98109",
   "metadata": {},
   "outputs": [
    {
     "data": {
      "text/plain": [
       "(('lambhorghini aventador',), ('lambhorgini Gallardo',))"
      ]
     },
     "execution_count": 176,
     "metadata": {},
     "output_type": "execute_result"
    }
   ],
   "source": [
    "# trick/another workaround of updating a tuple, which is to add tuple to a tuple\n",
    "\n",
    "zxc, abc"
   ]
  },
  {
   "cell_type": "code",
   "execution_count": 177,
   "id": "86c27611",
   "metadata": {},
   "outputs": [
    {
     "data": {
      "text/plain": [
       "('lambhorghini aventador', 'lambhorgini Gallardo')"
      ]
     },
     "execution_count": 177,
     "metadata": {},
     "output_type": "execute_result"
    }
   ],
   "source": [
    "zxc + abc"
   ]
  },
  {
   "cell_type": "code",
   "execution_count": 178,
   "id": "3d24b50c",
   "metadata": {},
   "outputs": [],
   "source": [
    "zxc += abc"
   ]
  },
  {
   "cell_type": "code",
   "execution_count": 179,
   "id": "318e2201",
   "metadata": {},
   "outputs": [
    {
     "data": {
      "text/plain": [
       "('lambhorghini aventador', 'lambhorgini Gallardo')"
      ]
     },
     "execution_count": 179,
     "metadata": {},
     "output_type": "execute_result"
    }
   ],
   "source": [
    "zxc\n",
    "\n",
    "# note\n",
    "# You can only add to tuple with a tuple"
   ]
  },
  {
   "cell_type": "code",
   "execution_count": 180,
   "id": "c1add77b",
   "metadata": {},
   "outputs": [],
   "source": [
    "# Can we add list to a tuple or the other way around?\n",
    "\n",
    "abc = list(abc)\n"
   ]
  },
  {
   "cell_type": "code",
   "execution_count": 181,
   "id": "b2cdc059",
   "metadata": {},
   "outputs": [],
   "source": [
    "abc.insert(1, zxc)"
   ]
  },
  {
   "cell_type": "code",
   "execution_count": 182,
   "id": "21d5bd1b",
   "metadata": {},
   "outputs": [
    {
     "data": {
      "text/plain": [
       "['lambhorgini Gallardo', ('lambhorghini aventador', 'lambhorgini Gallardo')]"
      ]
     },
     "execution_count": 182,
     "metadata": {},
     "output_type": "execute_result"
    }
   ],
   "source": [
    "abc"
   ]
  },
  {
   "cell_type": "code",
   "execution_count": 183,
   "id": "52e96e86",
   "metadata": {},
   "outputs": [],
   "source": [
    "zxc = zxc + (\"mclaren Sena\", \"Lamborghini Centenario\", \"Lambhorghini Cian\")"
   ]
  },
  {
   "cell_type": "code",
   "execution_count": 192,
   "id": "7c021262",
   "metadata": {},
   "outputs": [
    {
     "name": "stdout",
     "output_type": "stream",
     "text": [
      "lambhorghini aventador\n",
      "lambhorgini Gallardo\n",
      "Lamborghini Centenario\n",
      "Lambhorghini Cian\n"
     ]
    }
   ],
   "source": [
    "# loops in tuples\n",
    "\n",
    "for cars in zxc:\n",
    "    if cars.startswith((\"lambh\", \"Lamb\",)):\n",
    "        print(cars)"
   ]
  },
  {
   "cell_type": "code",
   "execution_count": 185,
   "id": "c31bc755",
   "metadata": {},
   "outputs": [
    {
     "data": {
      "text/plain": [
       "('lambhorghini aventador',\n",
       " 'lambhorgini Gallardo',\n",
       " 'mclaren Sena',\n",
       " 'Lamborghini Centenario',\n",
       " 'Lambhorghini Cian')"
      ]
     },
     "execution_count": 185,
     "metadata": {},
     "output_type": "execute_result"
    }
   ],
   "source": [
    "zxc"
   ]
  },
  {
   "cell_type": "code",
   "execution_count": 195,
   "id": "4001223e",
   "metadata": {},
   "outputs": [
    {
     "data": {
      "text/plain": [
       "('lambhorghini aventador',\n",
       " 'lambhorgini Gallardo',\n",
       " 'mclaren Sena',\n",
       " 'Lamborghini Centenario',\n",
       " 'Lambhorghini Cian',\n",
       " 'lambhorghini aventador',\n",
       " 'lambhorgini Gallardo',\n",
       " 'mclaren Sena',\n",
       " 'Lamborghini Centenario',\n",
       " 'Lambhorghini Cian')"
      ]
     },
     "execution_count": 195,
     "metadata": {},
     "output_type": "execute_result"
    }
   ],
   "source": [
    "# one more way to update a tuple is to multiple the tuple\n",
    "\n",
    "zxc2 = zxc * 2\n",
    "\n",
    "zxc2"
   ]
  },
  {
   "cell_type": "code",
   "execution_count": 197,
   "id": "d32b2a6a",
   "metadata": {},
   "outputs": [
    {
     "data": {
      "text/plain": [
       "2"
      ]
     },
     "execution_count": 197,
     "metadata": {},
     "output_type": "execute_result"
    }
   ],
   "source": [
    "# count : same as list\n",
    "# give me the cound of an element inside a tuple\n",
    "\n",
    "zxc2.count('mclaren Sena')"
   ]
  },
  {
   "cell_type": "code",
   "execution_count": 201,
   "id": "89efd3a9",
   "metadata": {},
   "outputs": [
    {
     "data": {
      "text/plain": [
       "2"
      ]
     },
     "execution_count": 201,
     "metadata": {},
     "output_type": "execute_result"
    }
   ],
   "source": [
    "# index\n",
    "# will give you index of first occurence of the element\n",
    "zxc2.index(\"mclaren Sena\")"
   ]
  },
  {
   "cell_type": "code",
   "execution_count": 203,
   "id": "88a0a2dd",
   "metadata": {},
   "outputs": [
    {
     "data": {
      "text/plain": [
       "2"
      ]
     },
     "execution_count": 203,
     "metadata": {},
     "output_type": "execute_result"
    }
   ],
   "source": [
    "zxc2.index(\"mclaren Sena\")"
   ]
  },
  {
   "cell_type": "code",
   "execution_count": 216,
   "id": "caeb5c57",
   "metadata": {},
   "outputs": [
    {
     "name": "stdout",
     "output_type": "stream",
     "text": [
      "mclaren Sena 2\n",
      "mclaren Sena 7\n"
     ]
    }
   ],
   "source": [
    "# problem - Find all the indexs of same elements\n",
    "cars_index = 0\n",
    "for cars in (zxc2):\n",
    "    cars_index += 1\n",
    "    if cars == \"mclaren Sena\":\n",
    "        print(cars, cars_index - 1)"
   ]
  },
  {
   "cell_type": "code",
   "execution_count": 217,
   "id": "d82421dc",
   "metadata": {},
   "outputs": [
    {
     "name": "stdout",
     "output_type": "stream",
     "text": [
      "2 <<< is the index of >>> mclaren Sena\n",
      "7 <<< is the index of >>> mclaren Sena\n"
     ]
    }
   ],
   "source": [
    "for cars_i, cars in enumerate(zxc2):\n",
    "    if cars == \"mclaren Sena\":\n",
    "        print(cars_i, \"<<< is the index of >>>\", cars)"
   ]
  },
  {
   "cell_type": "code",
   "execution_count": null,
   "id": "3e4c1c8a",
   "metadata": {},
   "outputs": [],
   "source": [
    "# print\n",
    "# enumerate - These are python classes, which has code written inside them give them their functionality"
   ]
  }
 ],
 "metadata": {
  "kernelspec": {
   "display_name": "Python 3",
   "language": "python",
   "name": "python3"
  },
  "language_info": {
   "codemirror_mode": {
    "name": "ipython",
    "version": 3
   },
   "file_extension": ".py",
   "mimetype": "text/x-python",
   "name": "python",
   "nbconvert_exporter": "python",
   "pygments_lexer": "ipython3",
   "version": "3.9.2"
  }
 },
 "nbformat": 4,
 "nbformat_minor": 5
}
