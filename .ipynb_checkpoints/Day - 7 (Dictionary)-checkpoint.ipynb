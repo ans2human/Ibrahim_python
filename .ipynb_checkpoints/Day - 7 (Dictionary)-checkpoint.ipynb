{
 "cells": [
  {
   "cell_type": "code",
   "execution_count": 1,
   "id": "0f9afe4f",
   "metadata": {},
   "outputs": [],
   "source": [
    "# Dictionary : Key & Value Pairs\n",
    "# type of collection/Sequence Datatype\n",
    "# Uses Curly Brackets\n",
    "# Ordered (list, Dicts, Tuple)\n",
    "# mutable / Changeable\n",
    "# does not allow duplicates\n",
    "# UnIndexed"
   ]
  },
  {
   "cell_type": "code",
   "execution_count": 28,
   "id": "ba2abf07",
   "metadata": {},
   "outputs": [],
   "source": [
    "car = {\n",
    "    'brand': 'lambhorghini',\n",
    "    'model': 'aventador',\n",
    "    'top-speed': 300,\n",
    "    'weight': 2222.22,\n",
    "    'CC': 5000,\n",
    "    'petrol': True,\n",
    "    'diesel': False,\n",
    "    'radio': None,\n",
    "    'model': 'aventador',\n",
    "\n",
    "} "
   ]
  },
  {
   "cell_type": "code",
   "execution_count": 29,
   "id": "3a3bb473",
   "metadata": {},
   "outputs": [
    {
     "data": {
      "text/plain": [
       "({'brand': 'lambhorghini',\n",
       "  'model': 'aventador',\n",
       "  'top-speed': 300,\n",
       "  'weight': 2222.22,\n",
       "  'CC': 5000,\n",
       "  'petrol': True,\n",
       "  'diesel': False,\n",
       "  'radio': None},\n",
       " 8)"
      ]
     },
     "execution_count": 29,
     "metadata": {},
     "output_type": "execute_result"
    }
   ],
   "source": [
    "car, len(car)"
   ]
  },
  {
   "cell_type": "code",
   "execution_count": 30,
   "id": "56f9bee5",
   "metadata": {},
   "outputs": [
    {
     "data": {
      "text/plain": [
       "dict"
      ]
     },
     "execution_count": 30,
     "metadata": {},
     "output_type": "execute_result"
    }
   ],
   "source": [
    "type(car)"
   ]
  },
  {
   "cell_type": "code",
   "execution_count": 47,
   "id": "cf0f651f",
   "metadata": {},
   "outputs": [
    {
     "name": "stdout",
     "output_type": "stream",
     "text": [
      "brand lambhorghini\n",
      "model aventador\n",
      "top-speed 300\n",
      "weight 2222.22\n",
      "CC 5000\n",
      "petrol True\n",
      "diesel False\n",
      "radio None\n"
     ]
    }
   ],
   "source": [
    "# loops\n",
    "\n",
    "for k, v in car.items():\n",
    "    print(k, v)"
   ]
  },
  {
   "cell_type": "code",
   "execution_count": 74,
   "id": "b00af8d7",
   "metadata": {},
   "outputs": [
    {
     "name": "stdout",
     "output_type": "stream",
     "text": [
      "lambhorghini 1\n"
     ]
    }
   ],
   "source": [
    "# unindexed : dictionary does not have indexing\n",
    "\n",
    "print(car[\"brand\"], 1)"
   ]
  },
  {
   "cell_type": "code",
   "execution_count": null,
   "id": "b7eb8645",
   "metadata": {},
   "outputs": [],
   "source": [
    "print(car.get(\"brand\"), 2)"
   ]
  },
  {
   "cell_type": "code",
   "execution_count": 62,
   "id": "3ffc6586",
   "metadata": {},
   "outputs": [],
   "source": [
    "# self nesting\n",
    "# HW\n",
    "car[\"more attributes\"] = {\"color\": \"red\", \"0-100\":3.6}"
   ]
  },
  {
   "cell_type": "code",
   "execution_count": 63,
   "id": "8faa209c",
   "metadata": {},
   "outputs": [
    {
     "data": {
      "text/plain": [
       "{'brand': 'lambhorghini',\n",
       " 'model': 'aventador',\n",
       " 'top-speed': 300,\n",
       " 'weight': 2222.22,\n",
       " 'CC': 5000,\n",
       " 'petrol': True,\n",
       " 'diesel': False,\n",
       " 'radio': None,\n",
       " 'more attributes': {'color': 'red', '0-100': 3.6}}"
      ]
     },
     "execution_count": 63,
     "metadata": {},
     "output_type": "execute_result"
    }
   ],
   "source": [
    "car"
   ]
  },
  {
   "cell_type": "code",
   "execution_count": null,
   "id": "22f46af7",
   "metadata": {},
   "outputs": [],
   "source": []
  }
 ],
 "metadata": {
  "kernelspec": {
   "display_name": "Python 3",
   "language": "python",
   "name": "python3"
  },
  "language_info": {
   "codemirror_mode": {
    "name": "ipython",
    "version": 3
   },
   "file_extension": ".py",
   "mimetype": "text/x-python",
   "name": "python",
   "nbconvert_exporter": "python",
   "pygments_lexer": "ipython3",
   "version": "3.9.2"
  }
 },
 "nbformat": 4,
 "nbformat_minor": 5
}
