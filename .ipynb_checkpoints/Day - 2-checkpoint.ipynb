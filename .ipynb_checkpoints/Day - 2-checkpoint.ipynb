{
 "cells": [
  {
   "cell_type": "code",
   "execution_count": 1,
   "id": "95e1ea6a",
   "metadata": {},
   "outputs": [],
   "source": [
    "# Datatypes"
   ]
  },
  {
   "cell_type": "code",
   "execution_count": 2,
   "id": "17b54aba",
   "metadata": {},
   "outputs": [],
   "source": [
    "# there are 4 datatypes which are common to all OOPs based languages\n",
    "# Number or integer - This is basically all the numbers\n",
    "# String or text - This represents anything between \"\" or ''\n",
    "# float or decimal - this represents numnber with decimals\n",
    "# Boolean - True or False / binary - 0 / 1"
   ]
  },
  {
   "cell_type": "code",
   "execution_count": 13,
   "id": "f1168df4",
   "metadata": {},
   "outputs": [
    {
     "data": {
      "text/plain": [
       "int"
      ]
     },
     "execution_count": 13,
     "metadata": {},
     "output_type": "execute_result"
    }
   ],
   "source": [
    "#Integer\n",
    "\n",
    "8 \n",
    "\n",
    "a = 8\n",
    "type(a)"
   ]
  },
  {
   "cell_type": "code",
   "execution_count": 16,
   "id": "7181787c",
   "metadata": {},
   "outputs": [
    {
     "data": {
      "text/plain": [
       "str"
      ]
     },
     "execution_count": 16,
     "metadata": {},
     "output_type": "execute_result"
    }
   ],
   "source": [
    "# String\n",
    "\n",
    "s = \"8\"\n",
    "type(s)"
   ]
  },
  {
   "cell_type": "code",
   "execution_count": 19,
   "id": "d392464e",
   "metadata": {},
   "outputs": [
    {
     "data": {
      "text/plain": [
       "float"
      ]
     },
     "execution_count": 19,
     "metadata": {},
     "output_type": "execute_result"
    }
   ],
   "source": [
    "# float\n",
    "\n",
    "f = 8.1\n",
    "type(f)"
   ]
  },
  {
   "cell_type": "code",
   "execution_count": 22,
   "id": "7c821e2e",
   "metadata": {},
   "outputs": [
    {
     "data": {
      "text/plain": [
       "bool"
      ]
     },
     "execution_count": 22,
     "metadata": {},
     "output_type": "execute_result"
    }
   ],
   "source": [
    "# boolean\n",
    "\n",
    "b = True\n",
    "type(b)"
   ]
  },
  {
   "cell_type": "code",
   "execution_count": 25,
   "id": "247addf5",
   "metadata": {},
   "outputs": [
    {
     "ename": "SyntaxError",
     "evalue": "cannot assign to literal (<ipython-input-25-c0f883c8011b>, line 18)",
     "output_type": "error",
     "traceback": [
      "\u001b[1;36m  File \u001b[1;32m\"<ipython-input-25-c0f883c8011b>\"\u001b[1;36m, line \u001b[1;32m18\u001b[0m\n\u001b[1;33m    77 = 99\u001b[0m\n\u001b[1;37m    ^\u001b[0m\n\u001b[1;31mSyntaxError\u001b[0m\u001b[1;31m:\u001b[0m cannot assign to literal\n"
     ]
    }
   ],
   "source": [
    "# Variables\n",
    "# Same concept as what you use in Maths\n",
    "\n",
    "# a = 1\n",
    "# b = 3\n",
    "\n",
    "# x = 2a^2 + 3b^3\n",
    "# x = 2(1) + 3(27)\n",
    "# x = 2+ 81\n",
    "# x = 83\n",
    "\n",
    "# ways to write variable\n",
    "\n",
    "# You can start you variables with Alphabets\n",
    "# A number cannot be a variable\n",
    "\n",
    "\n",
    "77 = 99"
   ]
  },
  {
   "cell_type": "code",
   "execution_count": null,
   "id": "2b5ce3f6",
   "metadata": {},
   "outputs": [],
   "source": []
  }
 ],
 "metadata": {
  "kernelspec": {
   "display_name": "Python 3",
   "language": "python",
   "name": "python3"
  },
  "language_info": {
   "codemirror_mode": {
    "name": "ipython",
    "version": 3
   },
   "file_extension": ".py",
   "mimetype": "text/x-python",
   "name": "python",
   "nbconvert_exporter": "python",
   "pygments_lexer": "ipython3",
   "version": "3.9.2"
  }
 },
 "nbformat": 4,
 "nbformat_minor": 5
}
