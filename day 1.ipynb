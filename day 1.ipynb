{
 "cells": [
  {
   "cell_type": "code",
   "execution_count": 1,
   "id": "ef3efca3",
   "metadata": {},
   "outputs": [],
   "source": [
    "#python - https://www.w3schools.com/PYTHON/\n",
    "# Programming Language\n",
    "# OOPS : Object Oriented Programming\n",
    "\n",
    "car = {\n",
    "    'brand': 'lambhorghini',\n",
    "    'model': 'aventador',\n",
    "    'top-speed': 300,\n",
    "    'weight': 2222.22,\n",
    "    'CC': 5000,\n",
    "    'petrol': True,\n",
    "    'diesel': False,\n",
    "    'radio': None\n",
    "}"
   ]
  },
  {
   "cell_type": "code",
   "execution_count": 4,
   "id": "c0f5d482",
   "metadata": {},
   "outputs": [
    {
     "data": {
      "text/plain": [
       "{'brand': 'lambhorghini',\n",
       " 'model': 'aventador',\n",
       " 'top-speed': 300,\n",
       " 'weight': 2222.22,\n",
       " 'CC': 5000,\n",
       " 'petrol': True,\n",
       " 'diesel': False,\n",
       " 'radio': None}"
      ]
     },
     "execution_count": 4,
     "metadata": {},
     "output_type": "execute_result"
    }
   ],
   "source": [
    "# car is an object and value inside the car variable is the attributes.\n",
    "car"
   ]
  },
  {
   "cell_type": "code",
   "execution_count": 5,
   "id": "da41bee7",
   "metadata": {},
   "outputs": [],
   "source": [
    "# python is OOPS based language\n",
    "# Python was created by Guido Van Rossum released in 1991\n",
    "# why to learn python?\n",
    "# It is easy, why?\n",
    "# because the syntax is very similar to english"
   ]
  },
  {
   "cell_type": "code",
   "execution_count": 8,
   "id": "0406d245",
   "metadata": {},
   "outputs": [
    {
     "data": {
      "text/plain": [
       "(True, False)"
      ]
     },
     "execution_count": 8,
     "metadata": {},
     "output_type": "execute_result"
    }
   ],
   "source": [
    "# characteristics of python Language\n",
    "# This is Case-Sensitive language\n",
    "# Lowercase - small letters\n",
    "# Uppercase - Capital Letters\n",
    "\n",
    "\"Apple\" == \"Apple\", \"apple\" == \"Apple\""
   ]
  },
  {
   "cell_type": "code",
   "execution_count": 12,
   "id": "4f3e0039",
   "metadata": {},
   "outputs": [
    {
     "data": {
      "text/plain": [
       "float"
      ]
     },
     "execution_count": 12,
     "metadata": {},
     "output_type": "execute_result"
    }
   ],
   "source": [
    "# Dynamically Typed and Static Typed\n",
    "# Python compiler is intellligent enough to understand what type if datatype is the value held by variable.\n",
    "\n",
    "a = 1.1\n",
    "type(a)"
   ]
  },
  {
   "cell_type": "code",
   "execution_count": 26,
   "id": "6532a6ab",
   "metadata": {},
   "outputs": [
    {
     "data": {
      "text/plain": [
       "[1, 2, 3, 4, 5, 6, 7, 8, 9]"
      ]
     },
     "execution_count": 26,
     "metadata": {},
     "output_type": "execute_result"
    }
   ],
   "source": [
    "# indentation - Code is indented with 4 spaces to maintain hierarchial execution.\n",
    "# in python there is no semicolon but we follow indentation for procedural execution of code.\n",
    "\n",
    "# selection sorting algorithm\n",
    "# this is just an example function\n",
    "\n",
    "a = [8, 7, 1, 4, 2, 3, 9, 6, 5]\n",
    "\n",
    "def asc_sorting(lst):\n",
    "    for i in range(len(lst)):\n",
    "        for k in range(len(lst)):\n",
    "            if lst[i] < lst[k]:\n",
    "                lst[i], lst[k] = lst[k], lst[i]\n",
    "                # code will start from here as there is no loop so no indentation\n",
    "                \n",
    "    return lst\n",
    "asc_sorting(a)"
   ]
  },
  {
   "cell_type": "code",
   "execution_count": 28,
   "id": "19edbb29",
   "metadata": {},
   "outputs": [
    {
     "data": {
      "text/plain": [
       "4"
      ]
     },
     "execution_count": 28,
     "metadata": {},
     "output_type": "execute_result"
    }
   ],
   "source": [
    "# comment\n",
    "# anything written afer hash is treated as comment in python\n",
    "# 2 + 2"
   ]
  },
  {
   "cell_type": "code",
   "execution_count": null,
   "id": "4a5306e1",
   "metadata": {},
   "outputs": [],
   "source": []
  }
 ],
 "metadata": {
  "kernelspec": {
   "display_name": "Python 3",
   "language": "python",
   "name": "python3"
  },
  "language_info": {
   "codemirror_mode": {
    "name": "ipython",
    "version": 3
   },
   "file_extension": ".py",
   "mimetype": "text/x-python",
   "name": "python",
   "nbconvert_exporter": "python",
   "pygments_lexer": "ipython3",
   "version": "3.9.2"
  }
 },
 "nbformat": 4,
 "nbformat_minor": 5
}
