{
 "cells": [
  {
   "cell_type": "code",
   "execution_count": 1,
   "id": "1d9edb4b",
   "metadata": {},
   "outputs": [],
   "source": [
    "# Datatypes"
   ]
  },
  {
   "cell_type": "code",
   "execution_count": 2,
   "id": "c5c9f95e",
   "metadata": {},
   "outputs": [],
   "source": [
    "# there are 4 datatypes which are common to all OOPs based languages\n",
    "# Number or integer - This is basically all the numbers\n",
    "# String or text - This represents anything between \"\" or ''\n",
    "# float or decimal - this represents numnber with decimals\n",
    "# Boolean - True or False / binary - 0 / 1"
   ]
  },
  {
   "cell_type": "code",
   "execution_count": 13,
   "id": "3c125bad",
   "metadata": {},
   "outputs": [
    {
     "data": {
      "text/plain": [
       "int"
      ]
     },
     "execution_count": 13,
     "metadata": {},
     "output_type": "execute_result"
    }
   ],
   "source": [
    "#Integer\n",
    "\n",
    "8 \n",
    "\n",
    "a = 8\n",
    "type(a)"
   ]
  },
  {
   "cell_type": "code",
   "execution_count": 16,
   "id": "8866cfcb",
   "metadata": {},
   "outputs": [
    {
     "data": {
      "text/plain": [
       "str"
      ]
     },
     "execution_count": 16,
     "metadata": {},
     "output_type": "execute_result"
    }
   ],
   "source": [
    "# String\n",
    "\n",
    "s = \"8\"\n",
    "type(s)"
   ]
  },
  {
   "cell_type": "code",
   "execution_count": 19,
   "id": "3dcbcf0e",
   "metadata": {},
   "outputs": [
    {
     "data": {
      "text/plain": [
       "float"
      ]
     },
     "execution_count": 19,
     "metadata": {},
     "output_type": "execute_result"
    }
   ],
   "source": [
    "# float\n",
    "\n",
    "f = 8.1\n",
    "type(f)"
   ]
  },
  {
   "cell_type": "code",
   "execution_count": 22,
   "id": "0b9e28b2",
   "metadata": {},
   "outputs": [
    {
     "data": {
      "text/plain": [
       "bool"
      ]
     },
     "execution_count": 22,
     "metadata": {},
     "output_type": "execute_result"
    }
   ],
   "source": [
    "# boolean\n",
    "\n",
    "b = True\n",
    "type(b)"
   ]
  },
  {
   "cell_type": "code",
   "execution_count": 31,
   "id": "6aa6bb64",
   "metadata": {},
   "outputs": [],
   "source": [
    "# Variables\n",
    "# Same concept as what you use in Maths\n",
    "\n",
    "# a = 1\n",
    "# b = 3\n",
    "\n",
    "# x = 2a^2 + 3b^3\n",
    "# x = 2(1) + 3(27)\n",
    "# x = 2+ 81\n",
    "# x = 83\n",
    "\n",
    "# ways to write variable\n",
    "\n",
    "# do's\n",
    "# You can start you variables with Alphabets\n",
    "abc = 7\n",
    "# You can start your variable with _ Underscore\n",
    "_77 = 877\n",
    "\n",
    "# A number cannot be a variable\n",
    "# Variable cannot start with any sign ---> @#$%^^&*(()) except _"
   ]
  },
  {
   "cell_type": "code",
   "execution_count": 33,
   "id": "a17a4371",
   "metadata": {},
   "outputs": [
    {
     "data": {
      "text/plain": [
       "77"
      ]
     },
     "execution_count": 33,
     "metadata": {},
     "output_type": "execute_result"
    }
   ],
   "source": [
    "# varibale defination\n",
    "\n",
    "#snake_case\n",
    "\n",
    "ibrahim_manjar = 1\n",
    "\n",
    "# when using two words in a variable use underscore to seperate them."
   ]
  },
  {
   "cell_type": "code",
   "execution_count": 34,
   "id": "fecd64cf",
   "metadata": {},
   "outputs": [
    {
     "data": {
      "text/plain": [
       "int"
      ]
     },
     "execution_count": 34,
     "metadata": {},
     "output_type": "execute_result"
    }
   ],
   "source": [
    "# Python methods\n",
    "\n",
    "# Type  - Checks what is the datatype.\n",
    "a = 34\n",
    "type(a)\n",
    "\n"
   ]
  },
  {
   "cell_type": "code",
   "execution_count": 38,
   "id": "8dc7d09d",
   "metadata": {},
   "outputs": [
    {
     "data": {
      "text/plain": [
       "1"
      ]
     },
     "execution_count": 38,
     "metadata": {},
     "output_type": "execute_result"
    }
   ],
   "source": [
    "# length/len - Gives you the length of a datatype\n",
    "\n",
    "a = \" \"\n",
    "len(a)"
   ]
  },
  {
   "cell_type": "code",
   "execution_count": 40,
   "id": "aea7fed4",
   "metadata": {},
   "outputs": [
    {
     "name": "stdout",
     "output_type": "stream",
     "text": [
      "wocnoe\n"
     ]
    }
   ],
   "source": [
    "# Print\n",
    "\n",
    "print(\"wocnoe\")"
   ]
  },
  {
   "cell_type": "code",
   "execution_count": 46,
   "id": "1bebeedb",
   "metadata": {},
   "outputs": [
    {
     "data": {
      "text/plain": [
       "1.0"
      ]
     },
     "execution_count": 46,
     "metadata": {},
     "output_type": "execute_result"
    }
   ],
   "source": [
    "# Casting - Important\n",
    "\n",
    "a = 1 # the state to a will not change when you cast this into any other datatype\n",
    "\n",
    "float(a) # this happens on runtime and this is different object from variable a"
   ]
  },
  {
   "cell_type": "code",
   "execution_count": 47,
   "id": "f8164778",
   "metadata": {},
   "outputs": [
    {
     "data": {
      "text/plain": [
       "1"
      ]
     },
     "execution_count": 47,
     "metadata": {},
     "output_type": "execute_result"
    }
   ],
   "source": [
    "a"
   ]
  },
  {
   "cell_type": "code",
   "execution_count": 52,
   "id": "85e76905",
   "metadata": {},
   "outputs": [
    {
     "data": {
      "text/plain": [
       "2.0"
      ]
     },
     "execution_count": 52,
     "metadata": {},
     "output_type": "execute_result"
    }
   ],
   "source": [
    "b = 1.8\n",
    "float(round(b))"
   ]
  },
  {
   "cell_type": "code",
   "execution_count": 53,
   "id": "a8678b2a",
   "metadata": {},
   "outputs": [
    {
     "data": {
      "text/plain": [
       "'1.8'"
      ]
     },
     "execution_count": 53,
     "metadata": {},
     "output_type": "execute_result"
    }
   ],
   "source": [
    "str(b)"
   ]
  },
  {
   "cell_type": "code",
   "execution_count": 59,
   "id": "fee38e2f",
   "metadata": {},
   "outputs": [
    {
     "data": {
      "text/plain": [
       "False"
      ]
     },
     "execution_count": 59,
     "metadata": {},
     "output_type": "execute_result"
    }
   ],
   "source": [
    "c = 0\n",
    "bool(c)"
   ]
  },
  {
   "cell_type": "code",
   "execution_count": 62,
   "id": "dce1dd42",
   "metadata": {},
   "outputs": [
    {
     "name": "stdout",
     "output_type": "stream",
     "text": [
      "1 1.8 0\n"
     ]
    }
   ],
   "source": [
    "print(a, b, c)"
   ]
  },
  {
   "cell_type": "code",
   "execution_count": 63,
   "id": "b79e7eac",
   "metadata": {},
   "outputs": [],
   "source": [
    "a = b"
   ]
  },
  {
   "cell_type": "code",
   "execution_count": 64,
   "id": "17161558",
   "metadata": {},
   "outputs": [
    {
     "data": {
      "text/plain": [
       "1.8"
      ]
     },
     "execution_count": 64,
     "metadata": {},
     "output_type": "execute_result"
    }
   ],
   "source": [
    "a"
   ]
  },
  {
   "cell_type": "code",
   "execution_count": 65,
   "id": "e8f11122",
   "metadata": {},
   "outputs": [
    {
     "data": {
      "text/plain": [
       "1.8"
      ]
     },
     "execution_count": 65,
     "metadata": {},
     "output_type": "execute_result"
    }
   ],
   "source": [
    "b"
   ]
  },
  {
   "cell_type": "code",
   "execution_count": 66,
   "id": "b419b062",
   "metadata": {},
   "outputs": [],
   "source": [
    "a = b = c"
   ]
  },
  {
   "cell_type": "code",
   "execution_count": 67,
   "id": "54d77fc1",
   "metadata": {},
   "outputs": [
    {
     "data": {
      "text/plain": [
       "0"
      ]
     },
     "execution_count": 67,
     "metadata": {},
     "output_type": "execute_result"
    }
   ],
   "source": [
    "a"
   ]
  },
  {
   "cell_type": "code",
   "execution_count": 68,
   "id": "e8a416af",
   "metadata": {},
   "outputs": [
    {
     "data": {
      "text/plain": [
       "0"
      ]
     },
     "execution_count": 68,
     "metadata": {},
     "output_type": "execute_result"
    }
   ],
   "source": [
    "b"
   ]
  },
  {
   "cell_type": "code",
   "execution_count": 69,
   "id": "cb89aadc",
   "metadata": {},
   "outputs": [
    {
     "data": {
      "text/plain": [
       "0"
      ]
     },
     "execution_count": 69,
     "metadata": {},
     "output_type": "execute_result"
    }
   ],
   "source": [
    "c"
   ]
  },
  {
   "cell_type": "code",
   "execution_count": 79,
   "id": "168c770e",
   "metadata": {},
   "outputs": [],
   "source": [
    "a = 1\n",
    "b = 2\n",
    "c = 3"
   ]
  },
  {
   "cell_type": "code",
   "execution_count": 80,
   "id": "7771cd0f",
   "metadata": {},
   "outputs": [],
   "source": [
    "# Varibale swapping/Interchange\n",
    "\n",
    "a, b, c = b, a, a"
   ]
  },
  {
   "cell_type": "code",
   "execution_count": 82,
   "id": "ae3c629f",
   "metadata": {},
   "outputs": [
    {
     "data": {
      "text/plain": [
       "(2, 1, 1)"
      ]
     },
     "execution_count": 82,
     "metadata": {},
     "output_type": "execute_result"
    }
   ],
   "source": [
    "a,b,c"
   ]
  },
  {
   "cell_type": "code",
   "execution_count": 74,
   "id": "0f23e043",
   "metadata": {},
   "outputs": [
    {
     "data": {
      "text/plain": [
       "2"
      ]
     },
     "execution_count": 74,
     "metadata": {},
     "output_type": "execute_result"
    }
   ],
   "source": [
    "a"
   ]
  },
  {
   "cell_type": "code",
   "execution_count": 75,
   "id": "84851767",
   "metadata": {},
   "outputs": [
    {
     "data": {
      "text/plain": [
       "1"
      ]
     },
     "execution_count": 75,
     "metadata": {},
     "output_type": "execute_result"
    }
   ],
   "source": [
    "b"
   ]
  },
  {
   "cell_type": "code",
   "execution_count": null,
   "id": "1e4a9044",
   "metadata": {},
   "outputs": [],
   "source": []
  }
 ],
 "metadata": {
  "kernelspec": {
   "display_name": "Python 3",
   "language": "python",
   "name": "python3"
  },
  "language_info": {
   "codemirror_mode": {
    "name": "ipython",
    "version": 3
   },
   "file_extension": ".py",
   "mimetype": "text/x-python",
   "name": "python",
   "nbconvert_exporter": "python",
   "pygments_lexer": "ipython3",
   "version": "3.9.2"
  }
 },
 "nbformat": 4,
 "nbformat_minor": 5
}
