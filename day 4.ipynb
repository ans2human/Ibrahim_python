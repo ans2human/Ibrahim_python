{
 "cells": [
  {
   "cell_type": "code",
   "execution_count": 1,
   "id": "2336fd06",
   "metadata": {},
   "outputs": [],
   "source": [
    "# lists - Collection Datatype\n",
    "# ordered\n",
    "# Can Contains all types of datatype\n",
    "# Mutable - Changeable\n",
    "# allows duplicate"
   ]
  },
  {
   "cell_type": "code",
   "execution_count": 2,
   "id": "67fda8ad",
   "metadata": {},
   "outputs": [],
   "source": [
    "# Methods\n",
    "# append\n",
    "# insert\n",
    "# pop\n",
    "# del\n",
    "# remove"
   ]
  },
  {
   "cell_type": "code",
   "execution_count": 35,
   "id": "5297f63c",
   "metadata": {},
   "outputs": [],
   "source": [
    "# concept\n",
    "\n",
    "# list is collection of datatypes between square brackets []\n",
    "# indexing - unique id or sequence of the list items\n",
    "\n",
    "a =                  [\"ibrahim\", 22,  True, 99.99, 22]\n",
    "# index =            [0,          1,   2,   3,     4] # positive indeing starts from 0\n",
    "# reverse indexing = [-5         -4   -3    -2    -1] # negative indexing starts from -1"
   ]
  },
  {
   "cell_type": "code",
   "execution_count": 36,
   "id": "03f547e4",
   "metadata": {},
   "outputs": [
    {
     "data": {
      "text/plain": [
       "5"
      ]
     },
     "execution_count": 36,
     "metadata": {},
     "output_type": "execute_result"
    }
   ],
   "source": [
    "len(a)"
   ]
  },
  {
   "cell_type": "code",
   "execution_count": 37,
   "id": "c1dc9522",
   "metadata": {},
   "outputs": [],
   "source": [
    "q, w, e, r = 1, 2, 3, 4"
   ]
  },
  {
   "cell_type": "code",
   "execution_count": 38,
   "id": "e1f9c5ab",
   "metadata": {},
   "outputs": [],
   "source": [
    "c = [q, w, e, r]"
   ]
  },
  {
   "cell_type": "code",
   "execution_count": 39,
   "id": "6cf4b6b9",
   "metadata": {},
   "outputs": [
    {
     "data": {
      "text/plain": [
       "[1, 2, 3, 4]"
      ]
     },
     "execution_count": 39,
     "metadata": {},
     "output_type": "execute_result"
    }
   ],
   "source": [
    "c"
   ]
  },
  {
   "cell_type": "code",
   "execution_count": 40,
   "id": "b8023734",
   "metadata": {},
   "outputs": [
    {
     "data": {
      "text/plain": [
       "(['ibrahim', 22, True, 99.99, 22], [1, 2, 3, 4])"
      ]
     },
     "execution_count": 40,
     "metadata": {},
     "output_type": "execute_result"
    }
   ],
   "source": [
    "a, c"
   ]
  },
  {
   "cell_type": "code",
   "execution_count": 41,
   "id": "006adf26",
   "metadata": {},
   "outputs": [],
   "source": [
    "a = a + c # list addition\n",
    "# concept is you can add a list to a list"
   ]
  },
  {
   "cell_type": "code",
   "execution_count": 42,
   "id": "bae798fb",
   "metadata": {},
   "outputs": [
    {
     "data": {
      "text/plain": [
       "['ibrahim', 22, True, 99.99, 22, 1, 2, 3, 4]"
      ]
     },
     "execution_count": 42,
     "metadata": {},
     "output_type": "execute_result"
    }
   ],
   "source": [
    "a"
   ]
  },
  {
   "cell_type": "code",
   "execution_count": 43,
   "id": "b18d451c",
   "metadata": {},
   "outputs": [
    {
     "data": {
      "text/plain": [
       "['ibrahim', 22, True, 99.99, 22, 1, 2, 3, 4]"
      ]
     },
     "execution_count": 43,
     "metadata": {},
     "output_type": "execute_result"
    }
   ],
   "source": [
    "a"
   ]
  },
  {
   "cell_type": "code",
   "execution_count": 48,
   "id": "a564d090",
   "metadata": {},
   "outputs": [],
   "source": [
    "d = set(range(11, 15))\n",
    "d # set object\n",
    "a.append(set(range(11, 15)))"
   ]
  },
  {
   "cell_type": "code",
   "execution_count": 49,
   "id": "626e70d6",
   "metadata": {},
   "outputs": [
    {
     "data": {
      "text/plain": [
       "['ibrahim',\n",
       " 22,\n",
       " True,\n",
       " 99.99,\n",
       " 22,\n",
       " 1,\n",
       " 2,\n",
       " 3,\n",
       " 4,\n",
       " {11, 12, 13, 14},\n",
       " {11, 12, 13, 14}]"
      ]
     },
     "execution_count": 49,
     "metadata": {},
     "output_type": "execute_result"
    }
   ],
   "source": [
    "a"
   ]
  },
  {
   "cell_type": "code",
   "execution_count": 47,
   "id": "2b927339",
   "metadata": {},
   "outputs": [
    {
     "data": {
      "text/plain": [
       "{11, 12, 13, 14}"
      ]
     },
     "execution_count": 47,
     "metadata": {},
     "output_type": "execute_result"
    }
   ],
   "source": [
    "a[-1]"
   ]
  },
  {
   "cell_type": "code",
   "execution_count": 50,
   "id": "3e3501b7",
   "metadata": {},
   "outputs": [],
   "source": [
    "a.append([\"lambhorghini\", \"buggati\"])"
   ]
  },
  {
   "cell_type": "code",
   "execution_count": 52,
   "id": "d304499b",
   "metadata": {},
   "outputs": [
    {
     "data": {
      "text/plain": [
       "['ibrahim',\n",
       " 22,\n",
       " True,\n",
       " 99.99,\n",
       " 22,\n",
       " 1,\n",
       " 2,\n",
       " 3,\n",
       " 4,\n",
       " {11, 12, 13, 14},\n",
       " {11, 12, 13, 14},\n",
       " ['lambhorghini', 'buggati']]"
      ]
     },
     "execution_count": 52,
     "metadata": {},
     "output_type": "execute_result"
    }
   ],
   "source": [
    "a"
   ]
  },
  {
   "cell_type": "code",
   "execution_count": 75,
   "id": "412bb8b3",
   "metadata": {},
   "outputs": [
    {
     "name": "stdout",
     "output_type": "stream",
     "text": [
      "[22, 33, 44] ['Apple', 'orange', 'kiwi'] [22.44, False]\n"
     ]
    }
   ],
   "source": [
    "# problem\n",
    "\n",
    "lst_1 = [22.44, \"Apple\", 22, \"orange\",False, 33, \"kiwi\", 44]\n",
    "\n",
    "# seperate number and stings into two different lists\n",
    "\n",
    "# loop\n",
    "num_list = []\n",
    "str_list = []\n",
    "rest_list = []\n",
    "for x in lst_1:\n",
    "    if type(x) is int:\n",
    "        num_list.append(x)\n",
    "    elif type(x) is str:\n",
    "        str_list.append(x)\n",
    "    else:\n",
    "        rest_list.append(x)\n",
    "print(num_list, str_list, rest_list)"
   ]
  },
  {
   "cell_type": "code",
   "execution_count": 82,
   "id": "4c7952ba",
   "metadata": {},
   "outputs": [
    {
     "name": "stdout",
     "output_type": "stream",
     "text": [
      "33\n",
      "44\n",
      "22.44\n",
      "22\n"
     ]
    }
   ],
   "source": [
    "# problem - seperate float and integers into a new list\n",
    "abc = {22.44, \"Apple\", 22, \"orange\",False, 33, \"kiwi\", 44}\n",
    "\n",
    "for y in abc:\n",
    "    if type(y) is int or type(y) is float:\n",
    "        print(y)"
   ]
  },
  {
   "cell_type": "code",
   "execution_count": 5,
   "id": "f7a73ee0",
   "metadata": {},
   "outputs": [
    {
     "data": {
      "text/plain": [
       "[22.44, 'Apple', 22, 'orange', False, 33, 'kiwi', 44]"
      ]
     },
     "execution_count": 5,
     "metadata": {},
     "output_type": "execute_result"
    }
   ],
   "source": [
    "# copy\n",
    "\n",
    "abc = [22.44, \"Apple\", 22, \"orange\",False, 33, \"kiwi\", 44]\n",
    "\n",
    "aba = abc.copy()\n",
    "aba"
   ]
  },
  {
   "cell_type": "code",
   "execution_count": 6,
   "id": "3baecd24",
   "metadata": {},
   "outputs": [
    {
     "data": {
      "text/plain": [
       "[22.44, 'Apple', 22, 'orange', False, 33, 'kiwi', 44]"
      ]
     },
     "execution_count": 6,
     "metadata": {},
     "output_type": "execute_result"
    }
   ],
   "source": [
    "# clear\n",
    "# clears all the elements from a list\n",
    "\n",
    "xyz"
   ]
  },
  {
   "cell_type": "code",
   "execution_count": 7,
   "id": "0b257e75",
   "metadata": {},
   "outputs": [],
   "source": [
    "xyz.clear()"
   ]
  },
  {
   "cell_type": "code",
   "execution_count": 8,
   "id": "78dfa360",
   "metadata": {},
   "outputs": [
    {
     "data": {
      "text/plain": [
       "[]"
      ]
     },
     "execution_count": 8,
     "metadata": {},
     "output_type": "execute_result"
    }
   ],
   "source": [
    "xyz"
   ]
  },
  {
   "cell_type": "code",
   "execution_count": 14,
   "id": "20ad865a",
   "metadata": {},
   "outputs": [
    {
     "data": {
      "text/plain": [
       "4"
      ]
     },
     "execution_count": 14,
     "metadata": {},
     "output_type": "execute_result"
    }
   ],
   "source": [
    "# count\n",
    "# counts the number of times a element is existing inside a list\n",
    "aba.append(\"orange\")\n",
    "aba.count('orange')"
   ]
  },
  {
   "cell_type": "code",
   "execution_count": 15,
   "id": "d49fdcc8",
   "metadata": {},
   "outputs": [
    {
     "data": {
      "text/plain": [
       "[22.44,\n",
       " 'Apple',\n",
       " 22,\n",
       " 'orange',\n",
       " False,\n",
       " 33,\n",
       " 'kiwi',\n",
       " 44,\n",
       " 'orange',\n",
       " 'orange',\n",
       " 'orange']"
      ]
     },
     "execution_count": 15,
     "metadata": {},
     "output_type": "execute_result"
    }
   ],
   "source": [
    "aba"
   ]
  },
  {
   "cell_type": "code",
   "execution_count": 21,
   "id": "f9fc4a01",
   "metadata": {},
   "outputs": [
    {
     "data": {
      "text/plain": [
       "[1, 2, 3, 4, 5, 6, 7]"
      ]
     },
     "execution_count": 21,
     "metadata": {},
     "output_type": "execute_result"
    }
   ],
   "source": [
    "#extend\n",
    "# adding a list to a PARENT list\n",
    "\n",
    "a = [1, 2, 3, 4, 5]\n",
    "b = [6, 7]\n",
    "\n",
    "a.extend(b)\n",
    "a"
   ]
  },
  {
   "cell_type": "code",
   "execution_count": 26,
   "id": "6f51488c",
   "metadata": {},
   "outputs": [
    {
     "data": {
      "text/plain": [
       "119"
      ]
     },
     "execution_count": 26,
     "metadata": {},
     "output_type": "execute_result"
    }
   ],
   "source": [
    "# index\n",
    "# gives you the index of a element\n",
    "\n",
    "a = list(range(1, 999, 3))\n",
    "a.index(358)"
   ]
  },
  {
   "cell_type": "code",
   "execution_count": 38,
   "id": "4c56680b",
   "metadata": {},
   "outputs": [
    {
     "name": "stdout",
     "output_type": "stream",
     "text": [
      "before>>>> [22.44, 'Apple', 22, 'orange', False, 33, 'kiwi', 44] False\n",
      "after>>> [22.44, 'Apple', 22, 'orange', True, False, 33, 'kiwi', 44]\n"
     ]
    }
   ],
   "source": [
    "# insert\n",
    "# adding an element in a list at a specific index while pushing the existing element to the back\n",
    "abc = [22.44, 'Apple', 22, 'orange', False, 33, 'kiwi', 44]\n",
    "print(\"before>>>>\",abc, abc[4])\n",
    "abc.insert(4, True)\n",
    "print(\"after>>>\",abc)"
   ]
  },
  {
   "cell_type": "code",
   "execution_count": 41,
   "id": "a3cee424",
   "metadata": {},
   "outputs": [],
   "source": [
    "# suppose you want to replace the element in a list\n",
    "abc[4] = \"lambhorghini\""
   ]
  },
  {
   "cell_type": "code",
   "execution_count": 59,
   "id": "773b2166",
   "metadata": {},
   "outputs": [
    {
     "data": {
      "text/plain": [
       "[22.44, 'Apple', 22, 'orange', 'lambhorghini', False, 33, 'kiwi', 44]"
      ]
     },
     "execution_count": 59,
     "metadata": {},
     "output_type": "execute_result"
    }
   ],
   "source": [
    "# variable/value swapping\n",
    "\n",
    "abc[3], abc[4] = abc[4], abc[3]\n",
    "\n",
    "abc"
   ]
  },
  {
   "cell_type": "code",
   "execution_count": 69,
   "id": "5ba26471",
   "metadata": {},
   "outputs": [],
   "source": [
    "# reverse\n",
    "# reverses the list, no parameter is requried\n",
    "abc.reverse()"
   ]
  },
  {
   "cell_type": "code",
   "execution_count": 70,
   "id": "fd673573",
   "metadata": {},
   "outputs": [
    {
     "data": {
      "text/plain": [
       "[22.44, 'Apple', 22, 'orange', 'lambhorghini', False, 33, 'kiwi', 44]"
      ]
     },
     "execution_count": 70,
     "metadata": {},
     "output_type": "execute_result"
    }
   ],
   "source": [
    "abc"
   ]
  },
  {
   "cell_type": "code",
   "execution_count": 75,
   "id": "d0b249fa",
   "metadata": {},
   "outputs": [],
   "source": [
    "abc.reverse()"
   ]
  },
  {
   "cell_type": "code",
   "execution_count": 81,
   "id": "ced2fd28",
   "metadata": {},
   "outputs": [
    {
     "data": {
      "text/plain": [
       "[22.44, 'Apple', 22, 'orange', 'lambhorghini', False, 33, 'kiwi', 44]"
      ]
     },
     "execution_count": 81,
     "metadata": {},
     "output_type": "execute_result"
    }
   ],
   "source": [
    "abc"
   ]
  },
  {
   "cell_type": "code",
   "execution_count": 82,
   "id": "f35c18f9",
   "metadata": {},
   "outputs": [
    {
     "data": {
      "text/plain": [
       "[44, 'kiwi', 33, False, 'lambhorghini', 'orange', 22, 'Apple', 22.44]"
      ]
     },
     "execution_count": 82,
     "metadata": {},
     "output_type": "execute_result"
    }
   ],
   "source": [
    "# reverse shortcut\n",
    "\n",
    "abc[::-1]"
   ]
  },
  {
   "cell_type": "code",
   "execution_count": 84,
   "id": "95b18f8e",
   "metadata": {},
   "outputs": [
    {
     "ename": "TypeError",
     "evalue": "'<' not supported between instances of 'str' and 'float'",
     "output_type": "error",
     "traceback": [
      "\u001b[1;31m---------------------------------------------------------------------------\u001b[0m",
      "\u001b[1;31mTypeError\u001b[0m                                 Traceback (most recent call last)",
      "\u001b[1;32m<ipython-input-84-184f5e8491ce>\u001b[0m in \u001b[0;36m<module>\u001b[1;34m\u001b[0m\n\u001b[0;32m      1\u001b[0m \u001b[1;31m# sorting\u001b[0m\u001b[1;33m\u001b[0m\u001b[1;33m\u001b[0m\u001b[1;33m\u001b[0m\u001b[0m\n\u001b[0;32m      2\u001b[0m \u001b[1;33m\u001b[0m\u001b[0m\n\u001b[1;32m----> 3\u001b[1;33m \u001b[0mabc\u001b[0m\u001b[1;33m.\u001b[0m\u001b[0msort\u001b[0m\u001b[1;33m(\u001b[0m\u001b[1;33m)\u001b[0m\u001b[1;33m\u001b[0m\u001b[1;33m\u001b[0m\u001b[0m\n\u001b[0m",
      "\u001b[1;31mTypeError\u001b[0m: '<' not supported between instances of 'str' and 'float'"
     ]
    }
   ],
   "source": [
    "# sorting\n",
    "\n",
    "abc.sort()"
   ]
  },
  {
   "cell_type": "code",
   "execution_count": 92,
   "id": "f91e2d35",
   "metadata": {},
   "outputs": [],
   "source": [
    "abc = [3,5,1, 6, 7, 9, 8, 2, 4]"
   ]
  },
  {
   "cell_type": "code",
   "execution_count": 93,
   "id": "e313a1a6",
   "metadata": {},
   "outputs": [],
   "source": [
    "abc.sort()"
   ]
  },
  {
   "cell_type": "code",
   "execution_count": 94,
   "id": "86d8ea98",
   "metadata": {},
   "outputs": [
    {
     "data": {
      "text/plain": [
       "[1, 2, 3, 4, 5, 6, 7, 8, 9]"
      ]
     },
     "execution_count": 94,
     "metadata": {},
     "output_type": "execute_result"
    }
   ],
   "source": [
    "abc"
   ]
  },
  {
   "cell_type": "code",
   "execution_count": 95,
   "id": "e0adabd3",
   "metadata": {},
   "outputs": [
    {
     "data": {
      "text/plain": [
       "[1, 2, 3, 4, 6, 7, 8, 9]"
      ]
     },
     "execution_count": 95,
     "metadata": {},
     "output_type": "execute_result"
    }
   ],
   "source": [
    "# remove - To remove a specific element\n",
    "abc.remove(5)\n",
    "abc"
   ]
  },
  {
   "cell_type": "code",
   "execution_count": 97,
   "id": "4c6989b1",
   "metadata": {},
   "outputs": [
    {
     "data": {
      "text/plain": [
       "3"
      ]
     },
     "execution_count": 97,
     "metadata": {},
     "output_type": "execute_result"
    }
   ],
   "source": [
    "# pop - removes the element from a specified index and if not index is provided it will remove the last element\n",
    "abc.pop(2)"
   ]
  },
  {
   "cell_type": "code",
   "execution_count": 99,
   "id": "fda6147c",
   "metadata": {},
   "outputs": [
    {
     "data": {
      "text/plain": [
       "9"
      ]
     },
     "execution_count": 99,
     "metadata": {},
     "output_type": "execute_result"
    }
   ],
   "source": [
    "abc.pop()\n",
    "# why last because empty parameter means -1 index element"
   ]
  },
  {
   "cell_type": "code",
   "execution_count": 141,
   "id": "dd130f53",
   "metadata": {},
   "outputs": [],
   "source": [
    "abc = [\"Anshuman Anand Singh\", 2, 3, 4, 6, 7, 8, 9]"
   ]
  },
  {
   "cell_type": "code",
   "execution_count": 142,
   "id": "50c05244",
   "metadata": {},
   "outputs": [],
   "source": [
    "abc1 = abc.pop(0).split(' ')[0]\n",
    "abc.insert(0, abc1)"
   ]
  },
  {
   "cell_type": "code",
   "execution_count": 143,
   "id": "365c6d8d",
   "metadata": {},
   "outputs": [
    {
     "data": {
      "text/plain": [
       "('Anshuman', ['Anshuman', 2, 3, 4, 6, 7, 8, 9])"
      ]
     },
     "execution_count": 143,
     "metadata": {},
     "output_type": "execute_result"
    }
   ],
   "source": [
    "abc1,abc"
   ]
  },
  {
   "cell_type": "code",
   "execution_count": null,
   "id": "8f94076c",
   "metadata": {},
   "outputs": [],
   "source": []
  }
 ],
 "metadata": {
  "kernelspec": {
   "display_name": "Python 3",
   "language": "python",
   "name": "python3"
  },
  "language_info": {
   "codemirror_mode": {
    "name": "ipython",
    "version": 3
   },
   "file_extension": ".py",
   "mimetype": "text/x-python",
   "name": "python",
   "nbconvert_exporter": "python",
   "pygments_lexer": "ipython3",
   "version": "3.9.2"
  }
 },
 "nbformat": 4,
 "nbformat_minor": 5
}
