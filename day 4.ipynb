{
 "cells": [
  {
   "cell_type": "code",
   "execution_count": 1,
   "id": "813b4cd4",
   "metadata": {},
   "outputs": [],
   "source": [
    "# lists - Collection Datatype\n",
    "# ordered\n",
    "# Can Contains all types of datatype\n",
    "# Mutable - Changeable\n",
    "# allows duplicate"
   ]
  },
  {
   "cell_type": "code",
   "execution_count": 2,
   "id": "2e319fe2",
   "metadata": {},
   "outputs": [],
   "source": [
    "# Methods\n",
    "# append\n",
    "# insert\n",
    "# pop\n",
    "# del\n",
    "# remove"
   ]
  },
  {
   "cell_type": "code",
   "execution_count": 35,
   "id": "31f351c6",
   "metadata": {},
   "outputs": [],
   "source": [
    "# concept\n",
    "\n",
    "# list is collection of datatypes between square brackets []\n",
    "# indexing - unique id or sequence of the list items\n",
    "\n",
    "a =                  [\"ibrahim\", 22,  True, 99.99, 22]\n",
    "# index =            [0,          1,   2,   3,     4] # positive indeing starts from 0\n",
    "# reverse indexing = [-5         -4   -3    -2    -1] # negative indexing starts from -1"
   ]
  },
  {
   "cell_type": "code",
   "execution_count": 36,
   "id": "ddf075df",
   "metadata": {},
   "outputs": [
    {
     "data": {
      "text/plain": [
       "5"
      ]
     },
     "execution_count": 36,
     "metadata": {},
     "output_type": "execute_result"
    }
   ],
   "source": [
    "len(a)"
   ]
  },
  {
   "cell_type": "code",
   "execution_count": 37,
   "id": "e200165c",
   "metadata": {},
   "outputs": [],
   "source": [
    "q, w, e, r = 1, 2, 3, 4"
   ]
  },
  {
   "cell_type": "code",
   "execution_count": 38,
   "id": "ddf039c1",
   "metadata": {},
   "outputs": [],
   "source": [
    "c = [q, w, e, r]"
   ]
  },
  {
   "cell_type": "code",
   "execution_count": 39,
   "id": "e7357693",
   "metadata": {},
   "outputs": [
    {
     "data": {
      "text/plain": [
       "[1, 2, 3, 4]"
      ]
     },
     "execution_count": 39,
     "metadata": {},
     "output_type": "execute_result"
    }
   ],
   "source": [
    "c"
   ]
  },
  {
   "cell_type": "code",
   "execution_count": 40,
   "id": "91758568",
   "metadata": {},
   "outputs": [
    {
     "data": {
      "text/plain": [
       "(['ibrahim', 22, True, 99.99, 22], [1, 2, 3, 4])"
      ]
     },
     "execution_count": 40,
     "metadata": {},
     "output_type": "execute_result"
    }
   ],
   "source": [
    "a, c"
   ]
  },
  {
   "cell_type": "code",
   "execution_count": 41,
   "id": "78ebca6b",
   "metadata": {},
   "outputs": [],
   "source": [
    "a = a + c # list addition\n",
    "# concept is you can add a list to a list"
   ]
  },
  {
   "cell_type": "code",
   "execution_count": 42,
   "id": "93a8d7b7",
   "metadata": {},
   "outputs": [
    {
     "data": {
      "text/plain": [
       "['ibrahim', 22, True, 99.99, 22, 1, 2, 3, 4]"
      ]
     },
     "execution_count": 42,
     "metadata": {},
     "output_type": "execute_result"
    }
   ],
   "source": [
    "a"
   ]
  },
  {
   "cell_type": "code",
   "execution_count": 43,
   "id": "ed07afe9",
   "metadata": {},
   "outputs": [
    {
     "data": {
      "text/plain": [
       "['ibrahim', 22, True, 99.99, 22, 1, 2, 3, 4]"
      ]
     },
     "execution_count": 43,
     "metadata": {},
     "output_type": "execute_result"
    }
   ],
   "source": [
    "a"
   ]
  },
  {
   "cell_type": "code",
   "execution_count": 48,
   "id": "3dc22134",
   "metadata": {},
   "outputs": [],
   "source": [
    "d = set(range(11, 15))\n",
    "d # set object\n",
    "a.append(set(range(11, 15)))"
   ]
  },
  {
   "cell_type": "code",
   "execution_count": 49,
   "id": "aaae1046",
   "metadata": {},
   "outputs": [
    {
     "data": {
      "text/plain": [
       "['ibrahim',\n",
       " 22,\n",
       " True,\n",
       " 99.99,\n",
       " 22,\n",
       " 1,\n",
       " 2,\n",
       " 3,\n",
       " 4,\n",
       " {11, 12, 13, 14},\n",
       " {11, 12, 13, 14}]"
      ]
     },
     "execution_count": 49,
     "metadata": {},
     "output_type": "execute_result"
    }
   ],
   "source": [
    "a"
   ]
  },
  {
   "cell_type": "code",
   "execution_count": 47,
   "id": "603bcee9",
   "metadata": {},
   "outputs": [
    {
     "data": {
      "text/plain": [
       "{11, 12, 13, 14}"
      ]
     },
     "execution_count": 47,
     "metadata": {},
     "output_type": "execute_result"
    }
   ],
   "source": [
    "a[-1]"
   ]
  },
  {
   "cell_type": "code",
   "execution_count": 50,
   "id": "190eb587",
   "metadata": {},
   "outputs": [],
   "source": [
    "a.append([\"lambhorghini\", \"buggati\"])"
   ]
  },
  {
   "cell_type": "code",
   "execution_count": 52,
   "id": "e8f0e3fb",
   "metadata": {},
   "outputs": [
    {
     "data": {
      "text/plain": [
       "['ibrahim',\n",
       " 22,\n",
       " True,\n",
       " 99.99,\n",
       " 22,\n",
       " 1,\n",
       " 2,\n",
       " 3,\n",
       " 4,\n",
       " {11, 12, 13, 14},\n",
       " {11, 12, 13, 14},\n",
       " ['lambhorghini', 'buggati']]"
      ]
     },
     "execution_count": 52,
     "metadata": {},
     "output_type": "execute_result"
    }
   ],
   "source": [
    "a"
   ]
  },
  {
   "cell_type": "code",
   "execution_count": 75,
   "id": "a70da6b4",
   "metadata": {},
   "outputs": [
    {
     "name": "stdout",
     "output_type": "stream",
     "text": [
      "[22, 33, 44] ['Apple', 'orange', 'kiwi'] [22.44, False]\n"
     ]
    }
   ],
   "source": [
    "# problem\n",
    "\n",
    "lst_1 = [22.44, \"Apple\", 22, \"orange\",False, 33, \"kiwi\", 44]\n",
    "\n",
    "# seperate number and stings into two different lists\n",
    "\n",
    "# loop\n",
    "num_list = []\n",
    "str_list = []\n",
    "rest_list = []\n",
    "for x in lst_1:\n",
    "    if type(x) is int:\n",
    "        num_list.append(x)\n",
    "    elif type(x) is str:\n",
    "        str_list.append(x)\n",
    "    else:\n",
    "        rest_list.append(x)\n",
    "print(num_list, str_list, rest_list)"
   ]
  },
  {
   "cell_type": "code",
   "execution_count": 80,
   "id": "8fedecff",
   "metadata": {},
   "outputs": [
    {
     "name": "stdout",
     "output_type": "stream",
     "text": [
      "33\n",
      "44\n",
      "22.44\n",
      "22\n"
     ]
    }
   ],
   "source": [
    "# problem - seperate float and integers into a new list\n",
    "abc = {22.44, \"Apple\", 22, \"orange\",False, 33, \"kiwi\", 44}\n",
    "\n",
    "for y in abc:\n",
    "    if type(y) in int or type(y) is float:\n",
    "        print(y)"
   ]
  },
  {
   "cell_type": "code",
   "execution_count": null,
   "id": "8fe8f3e6",
   "metadata": {},
   "outputs": [],
   "source": []
  }
 ],
 "metadata": {
  "kernelspec": {
   "display_name": "Python 3",
   "language": "python",
   "name": "python3"
  },
  "language_info": {
   "codemirror_mode": {
    "name": "ipython",
    "version": 3
   },
   "file_extension": ".py",
   "mimetype": "text/x-python",
   "name": "python",
   "nbconvert_exporter": "python",
   "pygments_lexer": "ipython3",
   "version": "3.9.2"
  }
 },
 "nbformat": 4,
 "nbformat_minor": 5
}
